{
 "cells": [
  {
   "cell_type": "code",
   "execution_count": null,
   "id": "9ee494b5",
   "metadata": {},
   "outputs": [],
   "source": [
    "Homework"
   ]
  },
  {
   "cell_type": "code",
   "execution_count": null,
   "id": "eca86095",
   "metadata": {},
   "outputs": [],
   "source": [
    "Write a function that takes a string (sentence) and an array of strings (in this example dog_names) and check if one of the list members (dog names) is in the string (sentence). Return an array of the dog names found in the array\n",
    "\n",
    "hint: filter, includes\n",
    "\n",
    "for information on includes see:"
   ]
  },
  {
   "cell_type": "code",
   "execution_count": 1,
   "id": "5520017f",
   "metadata": {},
   "outputs": [],
   "source": [
    "var dogNames = [\"Max\",\"Fido\",\"Gizmo\",\"Nala\"]\n",
    "\n",
    "//Test Cases\n",
    "var testString1 = \"Hello, my dog is Max, and they have purple eyes!\"\n",
    "//Expect ['Max']\n",
    "\n",
    "var testString2 = \"My Dog is fast, her name is Tippi\"\n",
    "//Expect []\n",
    "\n",
    "var testString3 = \"Come here Fido and Gizmo come here\"\n",
    "//Expect['Fido','Gizmo']\n",
    "\n",
    "function findDogNames(sentence, dogNames) {\n",
    "  let foundNames = [];\n",
    "\n",
    "  for (let i = 0; i < dogNames.length; i++) {\n",
    "    const dogName = dogNames[i];\n",
    "\n",
    "    if (sentence.includes(dogName)) {\n",
    "      foundNames.push(dogName);\n",
    "    }\n",
    "  }\n",
    "\n",
    "  return foundNames;\n",
    "}\n"
   ]
  },
  {
   "cell_type": "code",
   "execution_count": 2,
   "id": "2c340963",
   "metadata": {},
   "outputs": [
    {
     "ename": "SyntaxError",
     "evalue": "Invalid or unexpected token",
     "output_type": "error",
     "traceback": [
      "evalmachine.<anonymous>:1",
      "Question #2",
      "         ^",
      "",
      "SyntaxError: Invalid or unexpected token",
      "    at new Script (node:vm:94:7)",
      "    at createScript (node:vm:250:10)",
      "    at Object.runInThisContext (node:vm:298:10)",
      "    at run ([eval]:1020:15)",
      "    at onRunRequest ([eval]:864:18)",
      "    at onMessage ([eval]:828:13)",
      "    at process.emit (node:events:511:28)",
      "    at emit (node:internal/child_process:944:14)",
      "    at process.processTicksAndRejections (node:internal/process/task_queues:83:21)"
     ]
    }
   ],
   "source": [
    "Question #2\n",
    "Write a Function using map to convert an array of number from inches to feet\n",
    "\n",
    "1 foot = 12 inches"
   ]
  },
  {
   "cell_type": "code",
   "execution_count": 3,
   "id": "1a503568",
   "metadata": {},
   "outputs": [
    {
     "name": "stdout",
     "output_type": "stream",
     "text": [
      "[\n",
      "  5.5,\n",
      "  5.333333333333333,\n",
      "  5,\n",
      "  4.333333333333333,\n",
      "  6,\n",
      "  6.666666666666667,\n",
      "  4.25\n",
      "]\n"
     ]
    }
   ],
   "source": [
    "var heightsInInches = [66, 64, 60, 52, 72, 80, 51]\n",
    "// Expect\n",
    "// [\n",
    "//   5.5,\n",
    "//   5.333333333333333,\n",
    "//   5,\n",
    "//   4.333333333333333,\n",
    "//   6,\n",
    "//   6.666666666666667,\n",
    "//   4.25\n",
    "// ]\n",
    "function convertToFeet(inchesArray) {\n",
    "  return inchesArray.map(function(inches) {\n",
    "    return inches / 12;\n",
    "  });\n",
    "}\n",
    "var heightsInFeet = convertToFeet(heightsInInches);\n",
    "console.log(heightsInFeet);"
   ]
  },
  {
   "cell_type": "code",
   "execution_count": 9,
   "id": "7b2b83c8",
   "metadata": {},
   "outputs": [
    {
     "ename": "SyntaxError",
     "evalue": "Identifier 'areaOrPerimeter' has already been declared",
     "output_type": "error",
     "traceback": [
      "evalmachine.<anonymous>:1",
      "",
      "",
      "SyntaxError: Identifier 'areaOrPerimeter' has already been declared",
      "    at Script.runInThisContext (node:vm:122:12)",
      "    at Object.runInThisContext (node:vm:298:38)",
      "    at run ([eval]:1020:15)",
      "    at onRunRequest ([eval]:864:18)",
      "    at onMessage ([eval]:828:13)",
      "    at process.emit (node:events:511:28)",
      "    at emit (node:internal/child_process:944:14)",
      "    at process.processTicksAndRejections (node:internal/process/task_queues:83:21)"
     ]
    }
   ],
   "source": [
    "\n",
    "const areaOrPerimeter = function(l, w) {\n",
    "  if (l === w) {\n",
    "    return l * w; \n",
    "  } else {\n",
    "    return 2 * (l + w);\n",
    "  }\n",
    "};\n",
    "var result = areaOrPerimeter(2, 3);\n",
    "console.log(result);"
   ]
  },
  {
   "cell_type": "code",
   "execution_count": 12,
   "id": "4735c5a2",
   "metadata": {},
   "outputs": [
    {
     "name": "stdout",
     "output_type": "stream",
     "text": [
      "true\n"
     ]
    }
   ],
   "source": [
    "\n",
    "\n",
    "\n",
    "function isLeapYear(year) {\n",
    "  if (year % 4 === 0) {\n",
    "    if (year % 100 === 0) {\n",
    "      if (year % 400 === 0) {\n",
    "        return true;\n",
    "      }\n",
    "      return false;\n",
    "    }\n",
    "    return true;\n",
    "  }\n",
    "  return false;\n",
    "}\n",
    "var result = isLeapYear(2020);\n",
    "console.log(result);"
   ]
  },
  {
   "cell_type": "code",
   "execution_count": 18,
   "id": "a5152acb",
   "metadata": {},
   "outputs": [
    {
     "ename": "SyntaxError",
     "evalue": "Unexpected token '='",
     "output_type": "error",
     "traceback": [
      "evalmachine.<anonymous>:1",
      "var = ['anna']",
      "    ^",
      "",
      "SyntaxError: Unexpected token '='",
      "    at new Script (node:vm:94:7)",
      "    at createScript (node:vm:250:10)",
      "    at Object.runInThisContext (node:vm:298:10)",
      "    at run ([eval]:1020:15)",
      "    at onRunRequest ([eval]:864:18)",
      "    at onMessage ([eval]:828:13)",
      "    at process.emit (node:events:511:28)",
      "    at emit (node:internal/child_process:944:14)",
      "    at process.processTicksAndRejections (node:internal/process/task_queues:83:21)"
     ]
    }
   ],
   "source": [
    "var = ['anna']\n",
    "function greet(name){ \n",
    "    return f\"Hello, ${name} how are you doing today?\"}\n",
    "consile.log(name)"
   ]
  },
  {
   "cell_type": "code",
   "execution_count": null,
   "id": "be8f29f9",
   "metadata": {},
   "outputs": [],
   "source": []
  }
 ],
 "metadata": {
  "kernelspec": {
   "display_name": "JavaScript (Node.js)",
   "language": "javascript",
   "name": "javascript"
  },
  "language_info": {
   "file_extension": ".js",
   "mimetype": "application/javascript",
   "name": "javascript",
   "version": "20.2.0"
  }
 },
 "nbformat": 4,
 "nbformat_minor": 5
}
